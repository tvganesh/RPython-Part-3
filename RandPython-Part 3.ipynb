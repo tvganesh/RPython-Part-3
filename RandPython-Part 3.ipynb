{
 "cells": [
  {
   "cell_type": "code",
   "execution_count": 1,
   "metadata": {
    "collapsed": true
   },
   "outputs": [],
   "source": [
    "import numpy as np\n",
    "import pandas as pd\n",
    "import os\n",
    "import matplotlib.pyplot as plt\n",
    "from sklearn.model_selection import train_test_split\n",
    "os.chdir(\"C:\\\\Users\\\\Ganesh\\\\RandPython-Part3\")\n",
    "from sklearn.datasets import make_classification, make_blobs"
   ]
  },
  {
   "cell_type": "code",
   "execution_count": 2,
   "metadata": {},
   "outputs": [
    {
     "data": {
      "text/plain": [
       "(506, 13)"
      ]
     },
     "execution_count": 2,
     "metadata": {},
     "output_type": "execute_result"
    }
   ],
   "source": [
    "\n",
    "df = pd.read_csv(\"Boston.csv\",encoding = \"ISO-8859-1\")\n",
    "X=df[['crim','zn','indus','chas', 'nox', 'rm','age','dis','rad','tax','ptratio','black','lstat']]\n",
    "y=df['medv']\n",
    "X.shape\n"
   ]
  },
  {
   "cell_type": "code",
   "execution_count": 27,
   "metadata": {
    "collapsed": true
   },
   "outputs": [],
   "source": [
    "X_train, X_test, y_train, y_test = train_test_split(X, y,random_state = 0)\n",
    "#X_train=X_train.reshape(-1,1)\n",
    "#X_test=X_test.reshape(-1,1)"
   ]
  },
  {
   "cell_type": "code",
   "execution_count": 28,
   "metadata": {},
   "outputs": [
    {
     "data": {
      "text/plain": [
       "(379, 13)"
      ]
     },
     "execution_count": 28,
     "metadata": {},
     "output_type": "execute_result"
    }
   ],
   "source": [
    "X_train.shape"
   ]
  },
  {
   "cell_type": "code",
   "execution_count": 3,
   "metadata": {
    "collapsed": true
   },
   "outputs": [],
   "source": [
    "from mlxtend.feature_selection import SequentialFeatureSelector as SFS\n",
    "from sklearn.linear_model import LinearRegression\n",
    "\n",
    "#linreg = LinearRegression()\n",
    "linreg = LinearRegression()"
   ]
  },
  {
   "cell_type": "code",
   "execution_count": 4,
   "metadata": {},
   "outputs": [
    {
     "ename": "NameError",
     "evalue": "name 'plot_sfs' is not defined",
     "output_type": "error",
     "traceback": [
      "\u001b[1;31m---------------------------------------------------------------------------\u001b[0m",
      "\u001b[1;31mNameError\u001b[0m                                 Traceback (most recent call last)",
      "\u001b[1;32m<ipython-input-4-3daddfa1ea43>\u001b[0m in \u001b[0;36m<module>\u001b[1;34m()\u001b[0m\n\u001b[0;32m     15\u001b[0m \u001b[1;33m\u001b[0m\u001b[0m\n\u001b[0;32m     16\u001b[0m \u001b[0msfs\u001b[0m \u001b[1;33m=\u001b[0m \u001b[0msfs\u001b[0m\u001b[1;33m.\u001b[0m\u001b[0mfit\u001b[0m\u001b[1;33m(\u001b[0m\u001b[0mX\u001b[0m\u001b[1;33m.\u001b[0m\u001b[0mas_matrix\u001b[0m\u001b[1;33m(\u001b[0m\u001b[1;33m)\u001b[0m\u001b[1;33m,\u001b[0m \u001b[0my\u001b[0m\u001b[1;33m.\u001b[0m\u001b[0mas_matrix\u001b[0m\u001b[1;33m(\u001b[0m\u001b[1;33m)\u001b[0m\u001b[1;33m)\u001b[0m\u001b[1;33m\u001b[0m\u001b[0m\n\u001b[1;32m---> 17\u001b[1;33m \u001b[0mfig\u001b[0m \u001b[1;33m=\u001b[0m \u001b[0mplot_sfs\u001b[0m\u001b[1;33m(\u001b[0m\u001b[0msfs\u001b[0m\u001b[1;33m.\u001b[0m\u001b[0mget_metric_dict\u001b[0m\u001b[1;33m(\u001b[0m\u001b[1;33m)\u001b[0m\u001b[1;33m,\u001b[0m \u001b[0mkind\u001b[0m\u001b[1;33m=\u001b[0m\u001b[1;34m'std_err'\u001b[0m\u001b[1;33m)\u001b[0m\u001b[1;33m\u001b[0m\u001b[0m\n\u001b[0m\u001b[0;32m     18\u001b[0m \u001b[1;33m\u001b[0m\u001b[0m\n\u001b[0;32m     19\u001b[0m \u001b[0mplt\u001b[0m\u001b[1;33m.\u001b[0m\u001b[0mtitle\u001b[0m\u001b[1;33m(\u001b[0m\u001b[1;34m'Sequential Forward Selection (w. StdErr)'\u001b[0m\u001b[1;33m)\u001b[0m\u001b[1;33m\u001b[0m\u001b[0m\n",
      "\u001b[1;31mNameError\u001b[0m: name 'plot_sfs' is not defined"
     ]
    }
   ],
   "source": [
    "from sklearn.linear_model import LinearRegression\n",
    "from sklearn.datasets import load_boston\n",
    "\n",
    "df = pd.read_csv(\"Boston.csv\",encoding = \"ISO-8859-1\")\n",
    "X=df[['crim','zn','indus','chas', 'nox', 'rm','age','dis','rad','tax','ptratio','black','lstat']]\n",
    "y=df['medv']\n",
    "lr = LinearRegression()\n",
    "\n",
    "sfs = SFS(lr, \n",
    "          k_features=13, \n",
    "          forward=True, \n",
    "          floating=False, \n",
    "          scoring='neg_mean_squared_error',\n",
    "          cv=5)\n",
    "\n",
    "sfs = sfs.fit(X.as_matrix(), y.as_matrix())\n",
    "fig = plot_sfs(sfs.get_metric_dict(), kind='std_err')\n",
    "\n",
    "plt.title('Sequential Forward Selection (w. StdErr)')\n",
    "plt.grid()\n",
    "plt.show()"
   ]
  },
  {
   "cell_type": "code",
   "execution_count": 6,
   "metadata": {},
   "outputs": [
    {
     "data": {
      "image/png": "[encoded data removed]",
      "text/plain": [
       "<matplotlib.figure.Figure at 0xbd63ba8>"
      ]
     },
     "metadata": {},
     "output_type": "display_data"
    }
   ],
   "source": [
    "from sklearn.linear_model import LinearRegression\n",
    "from sklearn.datasets import load_boston\n",
    "from mlxtend.plotting import plot_sequential_feature_selection as plot_sfs\n",
    "import matplotlib.pyplot as plt\n",
    "\n",
    "df = pd.read_csv(\"Boston.csv\",encoding = \"ISO-8859-1\")\n",
    "X=df[['crim','zn','indus','chas', 'nox', 'rm','age','dis','rad','tax','ptratio','black','lstat']]\n",
    "y=df['medv']\n",
    "lr = LinearRegression()\n",
    "\n",
    "sfs = SFS(lr, \n",
    "          k_features=(1,13), \n",
    "          forward=True, \n",
    "          floating=False, \n",
    "          scoring='neg_mean_squared_error',\n",
    "          cv=5)\n",
    "\n",
    "sfs = sfs.fit(X.as_matrix(), y.as_matrix())\n",
    "fig = plot_sfs(sfs.get_metric_dict(), kind='std_err')\n",
    "\n",
    "plt.title('Sequential Forward Selection (w. StdErr)')\n",
    "plt.grid()\n",
    "plt.show()\n"
   ]
  },
  {
   "cell_type": "code",
   "execution_count": 94,
   "metadata": {},
   "outputs": [
    {
     "data": {
      "text/html": [
       "<div>\n",
       "<style>\n",
       "    .dataframe thead tr:only-child th {\n",
       "        text-align: right;\n",
       "    }\n",
       "\n",
       "    .dataframe thead th {\n",
       "        text-align: left;\n",
       "    }\n",
       "\n",
       "    .dataframe tbody tr th {\n",
       "        vertical-align: top;\n",
       "    }\n",
       "</style>\n",
       "<table border=\"1\" class=\"dataframe\">\n",
       "  <thead>\n",
       "    <tr style=\"text-align: right;\">\n",
       "      <th></th>\n",
       "      <th>avg_score</th>\n",
       "      <th>ci_bound</th>\n",
       "      <th>cv_scores</th>\n",
       "      <th>feature_idx</th>\n",
       "      <th>std_dev</th>\n",
       "      <th>std_err</th>\n",
       "    </tr>\n",
       "  </thead>\n",
       "  <tbody>\n",
       "    <tr>\n",
       "      <th>1</th>\n",
       "      <td>-42.6185</td>\n",
       "      <td>19.0465</td>\n",
       "      <td>[-23.5582499971, -41.8215743748, -73.993608929...</td>\n",
       "      <td>(12,)</td>\n",
       "      <td>18.9042</td>\n",
       "      <td>9.45212</td>\n",
       "    </tr>\n",
       "    <tr>\n",
       "      <th>2</th>\n",
       "      <td>-36.0651</td>\n",
       "      <td>16.3184</td>\n",
       "      <td>[-18.002498199, -40.1507894517, -56.5286659068...</td>\n",
       "      <td>(10, 12)</td>\n",
       "      <td>16.1965</td>\n",
       "      <td>8.09826</td>\n",
       "    </tr>\n",
       "    <tr>\n",
       "      <th>3</th>\n",
       "      <td>-34.1001</td>\n",
       "      <td>20.87</td>\n",
       "      <td>[-9.43012884381, -25.9584955394, -36.184188174...</td>\n",
       "      <td>(10, 12, 5)</td>\n",
       "      <td>20.7142</td>\n",
       "      <td>10.3571</td>\n",
       "    </tr>\n",
       "    <tr>\n",
       "      <th>4</th>\n",
       "      <td>-33.7681</td>\n",
       "      <td>20.1638</td>\n",
       "      <td>[-8.86076528781, -28.650217633, -35.7246353855...</td>\n",
       "      <td>(10, 3, 12, 5)</td>\n",
       "      <td>20.0132</td>\n",
       "      <td>10.0066</td>\n",
       "    </tr>\n",
       "    <tr>\n",
       "      <th>5</th>\n",
       "      <td>-33.6392</td>\n",
       "      <td>20.5271</td>\n",
       "      <td>[-8.90807628524, -28.0684679108, -35.827463022...</td>\n",
       "      <td>(0, 10, 3, 12, 5)</td>\n",
       "      <td>20.3738</td>\n",
       "      <td>10.1869</td>\n",
       "    </tr>\n",
       "    <tr>\n",
       "      <th>6</th>\n",
       "      <td>-33.6276</td>\n",
       "      <td>19.0859</td>\n",
       "      <td>[-9.549485942, -30.9724602876, -32.6689523347,...</td>\n",
       "      <td>(0, 3, 5, 7, 10, 12)</td>\n",
       "      <td>18.9433</td>\n",
       "      <td>9.47167</td>\n",
       "    </tr>\n",
       "    <tr>\n",
       "      <th>7</th>\n",
       "      <td>-32.4082</td>\n",
       "      <td>19.1455</td>\n",
       "      <td>[-10.0177149635, -28.3780298492, -30.926917231...</td>\n",
       "      <td>(0, 2, 3, 5, 7, 10, 12)</td>\n",
       "      <td>19.0026</td>\n",
       "      <td>9.50128</td>\n",
       "    </tr>\n",
       "    <tr>\n",
       "      <th>8</th>\n",
       "      <td>-32.3697</td>\n",
       "      <td>18.533</td>\n",
       "      <td>[-11.1431684243, -27.5765510172, -31.168994094...</td>\n",
       "      <td>(0, 1, 2, 3, 5, 7, 10, 12)</td>\n",
       "      <td>18.3946</td>\n",
       "      <td>9.19731</td>\n",
       "    </tr>\n",
       "    <tr>\n",
       "      <th>9</th>\n",
       "      <td>-32.4016</td>\n",
       "      <td>21.5561</td>\n",
       "      <td>[-10.8972555995, -25.739780653, -30.1837430353...</td>\n",
       "      <td>(0, 1, 2, 3, 5, 7, 10, 11, 12)</td>\n",
       "      <td>21.3952</td>\n",
       "      <td>10.6976</td>\n",
       "    </tr>\n",
       "    <tr>\n",
       "      <th>10</th>\n",
       "      <td>-32.8504</td>\n",
       "      <td>22.6508</td>\n",
       "      <td>[-12.3909282079, -22.1533250755, -33.385407342...</td>\n",
       "      <td>(0, 1, 2, 3, 4, 5, 7, 10, 11, 12)</td>\n",
       "      <td>22.4816</td>\n",
       "      <td>11.2408</td>\n",
       "    </tr>\n",
       "    <tr>\n",
       "      <th>11</th>\n",
       "      <td>-34.1065</td>\n",
       "      <td>24.7019</td>\n",
       "      <td>[-12.6429253721, -22.1676650245, -33.956999528...</td>\n",
       "      <td>(0, 1, 2, 3, 4, 5, 6, 7, 10, 11, 12)</td>\n",
       "      <td>24.5175</td>\n",
       "      <td>12.2587</td>\n",
       "    </tr>\n",
       "    <tr>\n",
       "      <th>12</th>\n",
       "      <td>-35.5814</td>\n",
       "      <td>25.693</td>\n",
       "      <td>[-12.7303397453, -25.0145323483, -34.211898373...</td>\n",
       "      <td>(0, 1, 2, 3, 4, 5, 6, 7, 9, 10, 11, 12)</td>\n",
       "      <td>25.5012</td>\n",
       "      <td>12.7506</td>\n",
       "    </tr>\n",
       "    <tr>\n",
       "      <th>13</th>\n",
       "      <td>-37.1318</td>\n",
       "      <td>23.2657</td>\n",
       "      <td>[-12.4603005692, -26.0486211062, -33.074137979...</td>\n",
       "      <td>(0, 1, 2, 3, 4, 5, 6, 7, 8, 9, 10, 11, 12)</td>\n",
       "      <td>23.0919</td>\n",
       "      <td>11.546</td>\n",
       "    </tr>\n",
       "  </tbody>\n",
       "</table>\n",
       "</div>"
      ],
      "text/plain": [
       "   avg_score ci_bound                                          cv_scores  \\\n",
       "1   -42.6185  19.0465  [-23.5582499971, -41.8215743748, -73.993608929...   \n",
       "2   -36.0651  16.3184  [-18.002498199, -40.1507894517, -56.5286659068...   \n",
       "3   -34.1001    20.87  [-9.43012884381, -25.9584955394, -36.184188174...   \n",
       "4   -33.7681  20.1638  [-8.86076528781, -28.650217633, -35.7246353855...   \n",
       "5   -33.6392  20.5271  [-8.90807628524, -28.0684679108, -35.827463022...   \n",
       "6   -33.6276  19.0859  [-9.549485942, -30.9724602876, -32.6689523347,...   \n",
       "7   -32.4082  19.1455  [-10.0177149635, -28.3780298492, -30.926917231...   \n",
       "8   -32.3697   18.533  [-11.1431684243, -27.5765510172, -31.168994094...   \n",
       "9   -32.4016  21.5561  [-10.8972555995, -25.739780653, -30.1837430353...   \n",
       "10  -32.8504  22.6508  [-12.3909282079, -22.1533250755, -33.385407342...   \n",
       "11  -34.1065  24.7019  [-12.6429253721, -22.1676650245, -33.956999528...   \n",
       "12  -35.5814   25.693  [-12.7303397453, -25.0145323483, -34.211898373...   \n",
       "13  -37.1318  23.2657  [-12.4603005692, -26.0486211062, -33.074137979...   \n",
       "\n",
       "                                   feature_idx  std_dev  std_err  \n",
       "1                                        (12,)  18.9042  9.45212  \n",
       "2                                     (10, 12)  16.1965  8.09826  \n",
       "3                                  (10, 12, 5)  20.7142  10.3571  \n",
       "4                               (10, 3, 12, 5)  20.0132  10.0066  \n",
       "5                            (0, 10, 3, 12, 5)  20.3738  10.1869  \n",
       "6                         (0, 3, 5, 7, 10, 12)  18.9433  9.47167  \n",
       "7                      (0, 2, 3, 5, 7, 10, 12)  19.0026  9.50128  \n",
       "8                   (0, 1, 2, 3, 5, 7, 10, 12)  18.3946  9.19731  \n",
       "9               (0, 1, 2, 3, 5, 7, 10, 11, 12)  21.3952  10.6976  \n",
       "10           (0, 1, 2, 3, 4, 5, 7, 10, 11, 12)  22.4816  11.2408  \n",
       "11        (0, 1, 2, 3, 4, 5, 6, 7, 10, 11, 12)  24.5175  12.2587  \n",
       "12     (0, 1, 2, 3, 4, 5, 6, 7, 9, 10, 11, 12)  25.5012  12.7506  \n",
       "13  (0, 1, 2, 3, 4, 5, 6, 7, 8, 9, 10, 11, 12)  23.0919   11.546  "
      ]
     },
     "execution_count": 94,
     "metadata": {},
     "output_type": "execute_result"
    }
   ],
   "source": [
    "pd.DataFrame.from_dict(sfs.get_metric_dict(confidence_interval=0.90)).T"
   ]
  },
  {
   "cell_type": "code",
   "execution_count": 95,
   "metadata": {},
   "outputs": [
    {
     "data": {
      "image/png": "[encoded data removed]",
      "text/plain": [
       "<matplotlib.figure.Figure at 0xdbf9160>"
      ]
     },
     "metadata": {},
     "output_type": "display_data"
    }
   ],
   "source": [
    "a=sfs.get_metric_dict()\n",
    "\n",
    "m=[]\n",
    "for i in np.arange(1,13):\n",
    "    m.append(np.mean(a[i]['std_err']))\n",
    "\n",
    "l=np.arange(1,13)\n",
    "plt.plot(l,m)\n",
    "plt.title('Bestl Forward Selection (w. StdErr)')\n",
    "plt.grid()\n",
    "plt.show()"
   ]
  },
  {
   "cell_type": "markdown",
   "metadata": {},
   "source": [
    "linreg"
   ]
  },
  {
   "cell_type": "code",
   "execution_count": 5,
   "metadata": {},
   "outputs": [
    {
     "name": "stdout",
     "output_type": "stream",
     "text": [
      "best combination (ACC: -32.370): (0, 1, 2, 3, 5, 7, 10, 12)\n",
      "\n",
      "('all subsets:\\n', {1: {'avg_score': -42.618472789410582, 'feature_idx': (12,), 'cv_scores': array([-23.55825   , -41.82157437, -73.99360893, -50.50118016, -23.21775049])}, 2: {'avg_score': -36.0651299642116, 'feature_idx': (10, 12), 'cv_scores': array([-18.0024982 , -40.15078945, -56.52866591, -49.08360802, -16.56008824])}, 3: {'avg_score': -34.100081490306835, 'feature_idx': (10, 12, 5), 'cv_scores': array([ -9.43012884, -25.95849554, -36.18418817, -71.75796657, -27.16962833])}, 4: {'avg_score': -33.76808458181474, 'feature_idx': (10, 3, 12, 5), 'cv_scores': array([ -8.86076529, -28.65021763, -35.72463539, -69.69223644, -25.91256816])}, 5: {'avg_score': -33.639224148324885, 'feature_idx': (0, 10, 3, 12, 5), 'cv_scores': array([ -8.90807629, -28.06846791, -35.82746302, -70.42063882, -24.97147471])}, 6: {'avg_score': -33.627647762327811, 'feature_idx': (0, 3, 5, 7, 10, 12), 'cv_scores': array([ -9.54948594, -30.97246029, -32.66895233, -67.7603443 , -27.18699595])}, 7: {'avg_score': -32.408157802789958, 'feature_idx': (0, 2, 3, 5, 7, 10, 12), 'cv_scores': array([-10.01771496, -28.37802985, -30.92691723, -67.53055435, -25.18757262])}, 8: {'avg_score': -32.369720022593341, 'feature_idx': (0, 1, 2, 3, 5, 7, 10, 12), 'cv_scores': array([-11.14316842, -27.57655102, -31.16899409, -66.55119563, -25.40869095])}, 9: {'avg_score': -32.401564682249997, 'feature_idx': (0, 1, 2, 3, 5, 7, 10, 11, 12), 'cv_scores': array([-10.8972556 , -25.73978065, -30.18374304, -73.23955402, -21.9474901 ])}, 10: {'avg_score': -32.850428838313164, 'feature_idx': (0, 1, 2, 3, 4, 5, 7, 10, 11, 12), 'cv_scores': array([-12.39092821, -22.15332508, -33.38540734, -75.77435344, -20.54813013])}, 11: {'avg_score': -34.106498947796901, 'feature_idx': (0, 1, 2, 3, 4, 5, 6, 7, 10, 11, 12), 'cv_scores': array([-12.64292537, -22.16766502, -33.95699953, -81.20916394, -20.55574087])}, 12: {'avg_score': -35.58136621076919, 'feature_idx': (0, 1, 2, 3, 4, 5, 6, 7, 9, 10, 11, 12), 'cv_scores': array([-12.73033975, -25.01453235, -34.21189837, -84.68277882, -21.26728177])}, 13: {'avg_score': -37.131807467698906, 'feature_idx': (0, 1, 2, 3, 4, 5, 6, 7, 8, 9, 10, 11, 12), 'cv_scores': array([-12.46030057, -26.04862111, -33.07413798, -80.76237112, -33.31360656])}})\n"
     ]
    },
    {
     "data": {
      "image/png": "[encoded data removed]",
      "text/plain": [
       "<matplotlib.figure.Figure at 0xd9569e8>"
      ]
     },
     "metadata": {},
     "output_type": "display_data"
    }
   ],
   "source": [
    "from sklearn.linear_model import LinearRegression\n",
    "from mlxtend.feature_selection import SequentialFeatureSelector as SFS\n",
    "from mlxtend.plotting import plot_sequential_feature_selection as plot_sfs\n",
    "import matplotlib.pyplot as plt\n",
    "\n",
    "from sklearn.preprocessing import StandardScaler\n",
    "from sklearn.pipeline import make_pipeline\n",
    "\n",
    "df = pd.read_csv(\"Boston.csv\",encoding = \"ISO-8859-1\")\n",
    "X=df[['crim','zn','indus','chas', 'nox', 'rm','age','dis','rad','tax','ptratio','black','lstat']]\n",
    "y=df['medv']\n",
    "lr = LinearRegression()\n",
    "\n",
    "sfs1 = SFS(lr, \n",
    "          k_features=(3,13), \n",
    "          forward=True, \n",
    "          floating=False, \n",
    "          scoring='neg_mean_squared_error',\n",
    "          cv=5)\n",
    "\n",
    "pipe = make_pipeline(StandardScaler(), sfs1)\n",
    "\n",
    "pipe.fit(X, y)\n",
    "\n",
    "print('best combination (ACC: %.3f): %s\\n' % (sfs1.k_score_, sfs1.k_feature_idx_))\n",
    "print('all subsets:\\n', sfs1.subsets_)\n",
    "plot_sfs(sfs1.get_metric_dict(), kind='std_err');\n",
    "from sklearn.linear_model import LinearRegression\n",
    "from sklearn.datasets import load_boston\n",
    "\n",
    "df = pd.read_csv(\"Boston.csv\",encoding = \"ISO-8859-1\")\n",
    "X=df[['crim','zn','indus','chas', 'nox', 'rm','age','dis','rad','tax','ptratio','black','lstat']]\n",
    "y=df['medv']\n",
    "lr = LinearRegression()\n",
    "\n",
    "sfs = SFS(lr, \n",
    "          k_features=1, \n",
    "          forward=False, \n",
    "          floating=False, \n",
    "          scoring='neg_mean_squared_error',\n",
    "          cv=5)\n",
    "\n",
    "sfs = sfs.fit(X.as_matrix(), y.as_matrix())\n",
    "#fig = plot_sfs(sfs.get_metric_dict(), kind='std_err')\n",
    "#fig = plot_sfs(sfs.get_metric_dict(), kind='cv_scores')\n",
    "a=sfs.get_metric_dict()\n",
    "\n",
    "m=[]\n",
    "for i in np.arange(1,13):\n",
    "    m.append(-np.mean(a[i]['cv_scores']))\n",
    "\n",
    "    \n",
    "   \n",
    "l=np.arange(1,13)\n",
    "plt.plot(l,m)\n",
    "plt.title('Bestl Forward Selection (w. StdErr)')\n",
    "plt.grid()\n",
    "plt.show()\n"
   ]
  },
  {
   "cell_type": "code",
   "execution_count": 88,
   "metadata": {},
   "outputs": [
    {
     "data": {
      "text/plain": [
       "{1: {'avg_score': -42.618472789410596,\n",
       "  'ci_bound': 24.297447712539704,\n",
       "  'cv_scores': array([-23.55825   , -41.82157437, -73.99360893, -50.50118016, -23.21775049]),\n",
       "  'feature_idx': (12,),\n",
       "  'std_dev': 18.904239784513216,\n",
       "  'std_err': 9.4521198922566079},\n",
       " 2: {'avg_score': -36.065129964211607,\n",
       "  'ci_bound': 20.817229794261007,\n",
       "  'cv_scores': array([-18.0024982 , -40.15078945, -56.52866591, -49.08360802, -16.56008824]),\n",
       "  'feature_idx': (10, 12),\n",
       "  'std_dev': 16.196512009651258,\n",
       "  'std_err': 8.0982560048256289},\n",
       " 3: {'avg_score': -35.499200847742117,\n",
       "  'ci_bound': 17.811071394422441,\n",
       "  'cv_scores': array([-17.23292927, -44.41786483, -51.63317785, -43.58722056, -20.62481174]),\n",
       "  'feature_idx': (10, 12, 7),\n",
       "  'std_dev': 13.857618645495659,\n",
       "  'std_err': 6.9288093227478287},\n",
       " 4: {'avg_score': -33.462988003167659,\n",
       "  'ci_bound': 15.828918988701703,\n",
       "  'cv_scores': array([-20.64153333, -37.32478521, -47.47930298, -44.53254059, -17.33677791]),\n",
       "  'feature_idx': (12, 10, 4, 7),\n",
       "  'std_dev': 12.315436733612952,\n",
       "  'std_err': 6.157718366806475},\n",
       " 5: {'avg_score': -33.103812969357158,\n",
       "  'ci_bound': 13.542227385603661,\n",
       "  'cv_scores': array([-20.28723099, -34.63670785, -45.93187035, -42.88395742, -21.77929824]),\n",
       "  'feature_idx': (4, 7, 8, 10, 12),\n",
       "  'std_dev': 10.536312979973237,\n",
       "  'std_err': 5.2681564899866187},\n",
       " 6: {'avg_score': -32.063761841812621,\n",
       "  'ci_bound': 12.875944578310586,\n",
       "  'cv_scores': array([-19.44638294, -33.46063858, -42.72625725, -42.99170482, -21.69382563]),\n",
       "  'feature_idx': (4, 7, 8, 9, 10, 12),\n",
       "  'std_dev': 10.017922320082386,\n",
       "  'std_err': 5.008961160041193},\n",
       " 7: {'avg_score': -30.713294624039214,\n",
       "  'ci_bound': 11.785876761954761,\n",
       "  'cv_scores': array([-19.44251819, -31.17429023, -40.53126667, -41.11626652, -21.30213151]),\n",
       "  'feature_idx': (1, 4, 7, 8, 9, 10, 12),\n",
       "  'std_dev': 9.1698125257711016,\n",
       "  'std_err': 4.5849062628855508},\n",
       " 8: {'avg_score': -29.743238768854333,\n",
       "  'ci_bound': 12.558781416557823,\n",
       "  'cv_scores': array([-19.44527727, -30.06411872, -40.25612471, -40.88941589, -18.06125725]),\n",
       "  'feature_idx': (1, 4, 7, 8, 9, 10, 11, 12),\n",
       "  'std_dev': 9.7711586051637092,\n",
       "  'std_err': 4.8855793025818546},\n",
       " 9: {'avg_score': -29.087847587749131,\n",
       "  'ci_bound': 12.055632498961941,\n",
       "  'cv_scores': array([-19.35455699, -30.09476867, -39.75060364, -38.81014259, -17.42916606]),\n",
       "  'feature_idx': (0, 1, 4, 7, 8, 9, 10, 11, 12),\n",
       "  'std_dev': 9.3796916536516814,\n",
       "  'std_err': 4.6898458268258407},\n",
       " 10: {'avg_score': -28.922519544513086,\n",
       "  'ci_bound': 11.987648904549282,\n",
       "  'cv_scores': array([-18.56217159, -29.96850494, -39.9586836 , -38.1421868 , -17.98105081]),\n",
       "  'feature_idx': (0, 1, 4, 6, 7, 8, 9, 10, 11, 12),\n",
       "  'std_dev': 9.326798107572488,\n",
       "  'std_err': 4.663399053786244},\n",
       " 11: {'avg_score': -29.430139419257387,\n",
       "  'ci_bound': 13.883503925539854,\n",
       "  'cv_scores': array([-18.33461522, -30.33128475, -45.06543279, -36.71497068, -16.70439365]),\n",
       "  'feature_idx': (0, 1, 3, 4, 6, 7, 8, 9, 10, 11, 12),\n",
       "  'std_dev': 10.801837722329333,\n",
       "  'std_err': 5.4009188611646657},\n",
       " 12: {'avg_score': -30.458873233690621,\n",
       "  'ci_bound': 14.222138393583267,\n",
       "  'cv_scores': array([-18.49338953, -35.02906394, -45.15582318, -36.94432119, -16.67176834]),\n",
       "  'feature_idx': (0, 1, 2, 3, 4, 6, 7, 8, 9, 10, 11, 12),\n",
       "  'std_dev': 11.065306842992978,\n",
       "  'std_err': 5.5326534214964891},\n",
       " 13: {'avg_score': -37.131807467697335,\n",
       "  'ci_bound': 29.679867625982052,\n",
       "  'cv_scores': array([-12.46030057, -26.04862111, -33.07413798, -80.76237112, -33.31360656]),\n",
       "  'feature_idx': (0, 1, 2, 3, 4, 5, 6, 7, 8, 9, 10, 11, 12),\n",
       "  'std_dev': 23.091945335666246,\n",
       "  'std_err': 11.545972667833123}}"
      ]
     },
     "execution_count": 88,
     "metadata": {},
     "output_type": "execute_result"
    }
   ],
   "source": [
    "a=sfs.get_metric_dict()\n",
    "a"
   ]
  },
  {
   "cell_type": "code",
   "execution_count": 53,
   "metadata": {},
   "outputs": [
    {
     "name": "stdout",
     "output_type": "stream",
     "text": [
      "0\n"
     ]
    },
    {
     "data": {
      "image/png": "[encoded data removed]",
      "text/plain": [
       "<matplotlib.figure.Figure at 0xd7fd748>"
      ]
     },
     "metadata": {},
     "output_type": "display_data"
    },
    {
     "name": "stdout",
     "output_type": "stream",
     "text": [
      "\n",
      "Sequential Forward Selection:\n",
      "(0, 1, 2, 3, 5, 7, 10, 12)\n",
      "CV Score:\n",
      "-32.3697200226\n"
     ]
    }
   ],
   "source": [
    "from sklearn.linear_model import LinearRegression\n",
    "from sklearn.datasets import load_boston\n",
    "from mlxtend.plotting import plot_sequential_feature_selection as plot_sfs\n",
    "import matplotlib.pyplot as plt\n",
    "\n",
    "df = pd.read_csv(\"Boston.csv\",encoding = \"ISO-8859-1\")\n",
    "#Rename the columns\n",
    "df.columns=[\"no\",\"crimeRate\",\"zone\",\"indus\",\"chasRiver\",\"NO2\",\"rooms\",\"age\",\n",
    "              \"distances\",\"idxHighways\",\"taxRate\",\"teacherRatio\",\"color\",\"status\",\"cost\"]\n",
    "X=df[[\"crimeRate\",\"zone\",\"indus\",\"chasRiver\",\"NO2\",\"rooms\",\"age\",\n",
    "              \"distances\",\"idxHighways\",\"taxRate\",\"teacherRatio\",\"color\",\"status\"]]\n",
    "y=df['cost']\n",
    "lr = LinearRegression()\n",
    "\n",
    "sfs = SFS(lr, \n",
    "          k_features=(1,13), \n",
    "          forward=True, \n",
    "          floating=False, \n",
    "          scoring='neg_mean_squared_error',\n",
    "          cv=5)\n",
    "\n",
    "sfs = sfs.fit(X.as_matrix(), y.as_matrix())\n",
    "\n",
    "n=[]\n",
    "o=[]\n",
    "for i in np.arange(1,13):\n",
    "    n.append(-np.mean(a[i]['cv_scores'])) \n",
    "    o.append(a[i]['std_err'])\n",
    "    \n",
    "    \n",
    "m=np.arange(1,13)\n",
    "print(np.argmin(n))\n",
    "\n",
    "plt.plot(m,n)\n",
    "plt.title('Mean CV Scores')\n",
    "plt.show()\n",
    "\n",
    "pd.DataFrame.from_dict(sfs.get_metric_dict(confidence_interval=0.90)).T\n",
    "print('\\nSequential Forward Selection:')\n",
    "print(sfs.k_feature_idx_)\n",
    "print('CV Score:')\n",
    "print(sfs.k_score_)"
   ]
  },
  {
   "cell_type": "code",
   "execution_count": 37,
   "metadata": {
    "collapsed": true
   },
   "outputs": [],
   "source": [
    "df.columns=[\"no\",\"crimeRate\",\"zone\",\"indus\",\"chasRiver\",\"NO2\",\"rooms\",\"age\",\n",
    "              \"distances\",\"idxHighways\",\"taxRate\",\"teacherRatio\",\"color\",\"status\",\"cost\"]"
   ]
  },
  {
   "cell_type": "code",
   "execution_count": 83,
   "metadata": {},
   "outputs": [
    {
     "data": {
      "image/png": "[encoded data removed]",
      "text/plain": [
       "<matplotlib.figure.Figure at 0xddd5f98>"
      ]
     },
     "metadata": {},
     "output_type": "display_data"
    }
   ],
   "source": [
    "df1=pd.concat([pd.DataFrame(m),pd.DataFrame(n),pd.DataFrame(o)],axis=1)\n",
    "\n",
    "df1.plot()\n",
    "plt.show()"
   ]
  },
  {
   "cell_type": "code",
   "execution_count": 48,
   "metadata": {},
   "outputs": [],
   "source": [
    "from sklearn.linear_model import LinearRegression\n",
    "from sklearn.datasets import load_boston\n",
    "from mlxtend.plotting import plot_sequential_feature_selection as plot_sfs\n",
    "import matplotlib.pyplot as plt\n",
    "\n",
    "df = pd.read_csv(\"Boston.csv\",encoding = \"ISO-8859-1\")\n",
    "#Rename the columns\n",
    "df.columns=[\"no\",\"crimeRate\",\"zone\",\"indus\",\"chasRiver\",\"NO2\",\"rooms\",\"age\",\n",
    "              \"distances\",\"idxHighways\",\"taxRate\",\"teacherRatio\",\"color\",\"status\",\"cost\"]\n",
    "X=df[[\"crimeRate\",\"zone\",\"indus\",\"chasRiver\",\"NO2\",\"rooms\",\"age\",\n",
    "              \"distances\",\"idxHighways\",\"taxRate\",\"teacherRatio\",\"color\",\"status\",\"cost\"]]\n",
    "y=df['cost']\n",
    "lr = LinearRegression()\n",
    "\n",
    "sfs = SFS(lr, \n",
    "          k_features=(1,14), \n",
    "          forward=True, \n",
    "          floating=False, \n",
    "          scoring='neg_mean_squared_error',\n",
    "          cv=5)\n",
    "\n",
    "sfs = sfs.fit(X.as_matrix(), y.as_matrix())\n",
    "a=sfs.get_metric_dict()\n"
   ]
  },
  {
   "cell_type": "code",
   "execution_count": 50,
   "metadata": {},
   "outputs": [
    {
     "ename": "AttributeError",
     "evalue": "'DataFrame' object has no attribute 'column'",
     "output_type": "error",
     "traceback": [
      "\u001b[1;31m---------------------------------------------------------------------------\u001b[0m",
      "\u001b[1;31mAttributeError\u001b[0m                            Traceback (most recent call last)",
      "\u001b[1;32m<ipython-input-50-be2005cd5645>\u001b[0m in \u001b[0;36m<module>\u001b[1;34m()\u001b[0m\n\u001b[0;32m      2\u001b[0m \u001b[0mb\u001b[0m\u001b[1;33m\u001b[0m\u001b[0m\n\u001b[0;32m      3\u001b[0m \u001b[0mc\u001b[0m\u001b[1;33m=\u001b[0m\u001b[0mdf\u001b[0m\u001b[1;33m.\u001b[0m\u001b[0mcolumns\u001b[0m\u001b[1;33m\u001b[0m\u001b[0m\n\u001b[1;32m----> 4\u001b[1;33m \u001b[0mX\u001b[0m\u001b[1;33m.\u001b[0m\u001b[0mcolumn\u001b[0m\u001b[1;33m\u001b[0m\u001b[0m\n\u001b[0m\u001b[0;32m      5\u001b[0m \u001b[0msprint\u001b[0m\u001b[1;33m(\u001b[0m\u001b[1;34m'\\nSequential Forward Selection:'\u001b[0m\u001b[1;33m)\u001b[0m\u001b[1;33m\u001b[0m\u001b[0m\n\u001b[0;32m      6\u001b[0m \u001b[1;32mprint\u001b[0m\u001b[1;33m(\u001b[0m\u001b[0msfs\u001b[0m\u001b[1;33m.\u001b[0m\u001b[0mk_feature_idx_\u001b[0m\u001b[1;33m)\u001b[0m\u001b[1;33m\u001b[0m\u001b[0m\n",
      "\u001b[1;32mC:\\Users\\Ganesh\\Anaconda2\\lib\\site-packages\\pandas\\core\\generic.pyc\u001b[0m in \u001b[0;36m__getattr__\u001b[1;34m(self, name)\u001b[0m\n\u001b[0;32m   2968\u001b[0m             \u001b[1;32mif\u001b[0m \u001b[0mname\u001b[0m \u001b[1;32min\u001b[0m \u001b[0mself\u001b[0m\u001b[1;33m.\u001b[0m\u001b[0m_info_axis\u001b[0m\u001b[1;33m:\u001b[0m\u001b[1;33m\u001b[0m\u001b[0m\n\u001b[0;32m   2969\u001b[0m                 \u001b[1;32mreturn\u001b[0m \u001b[0mself\u001b[0m\u001b[1;33m[\u001b[0m\u001b[0mname\u001b[0m\u001b[1;33m]\u001b[0m\u001b[1;33m\u001b[0m\u001b[0m\n\u001b[1;32m-> 2970\u001b[1;33m             \u001b[1;32mreturn\u001b[0m \u001b[0mobject\u001b[0m\u001b[1;33m.\u001b[0m\u001b[0m__getattribute__\u001b[0m\u001b[1;33m(\u001b[0m\u001b[0mself\u001b[0m\u001b[1;33m,\u001b[0m \u001b[0mname\u001b[0m\u001b[1;33m)\u001b[0m\u001b[1;33m\u001b[0m\u001b[0m\n\u001b[0m\u001b[0;32m   2971\u001b[0m \u001b[1;33m\u001b[0m\u001b[0m\n\u001b[0;32m   2972\u001b[0m     \u001b[1;32mdef\u001b[0m \u001b[0m__setattr__\u001b[0m\u001b[1;33m(\u001b[0m\u001b[0mself\u001b[0m\u001b[1;33m,\u001b[0m \u001b[0mname\u001b[0m\u001b[1;33m,\u001b[0m \u001b[0mvalue\u001b[0m\u001b[1;33m)\u001b[0m\u001b[1;33m:\u001b[0m\u001b[1;33m\u001b[0m\u001b[0m\n",
      "\u001b[1;31mAttributeError\u001b[0m: 'DataFrame' object has no attribute 'column'"
     ]
    }
   ],
   "source": [
    "b=list(a[9]['feature_idx'])\n",
    "b\n",
    "c=df.columns\n",
    "X.column\n",
    "sprint('\\nSequential Forward Selection:')\n",
    "print(sfs.k_feature_idx_)\n",
    "print('CV Score:')\n",
    "print(sfs.k_score_)\n",
    "\n",
    "\n"
   ]
  },
  {
   "cell_type": "code",
   "execution_count": null,
   "metadata": {
    "collapsed": true
   },
   "outputs": [],
   "source": []
  },
  {
   "cell_type": "code",
   "execution_count": 104,
   "metadata": {},
   "outputs": [
    {
     "data": {
      "text/html": [
       "<div>\n",
       "<style>\n",
       "    .dataframe thead tr:only-child th {\n",
       "        text-align: right;\n",
       "    }\n",
       "\n",
       "    .dataframe thead th {\n",
       "        text-align: left;\n",
       "    }\n",
       "\n",
       "    .dataframe tbody tr th {\n",
       "        vertical-align: top;\n",
       "    }\n",
       "</style>\n",
       "<table border=\"1\" class=\"dataframe\">\n",
       "  <thead>\n",
       "    <tr style=\"text-align: right;\">\n",
       "      <th></th>\n",
       "      <th>avg_score</th>\n",
       "      <th>ci_bound</th>\n",
       "      <th>cv_scores</th>\n",
       "      <th>feature_idx</th>\n",
       "      <th>std_dev</th>\n",
       "      <th>std_err</th>\n",
       "    </tr>\n",
       "  </thead>\n",
       "  <tbody>\n",
       "    <tr>\n",
       "      <th>1</th>\n",
       "      <td>-42.6185</td>\n",
       "      <td>19.0465</td>\n",
       "      <td>[-23.5582499971, -41.8215743748, -73.993608929...</td>\n",
       "      <td>(12,)</td>\n",
       "      <td>18.9042</td>\n",
       "      <td>9.45212</td>\n",
       "    </tr>\n",
       "    <tr>\n",
       "      <th>2</th>\n",
       "      <td>-36.0651</td>\n",
       "      <td>16.3184</td>\n",
       "      <td>[-18.002498199, -40.1507894517, -56.5286659068...</td>\n",
       "      <td>(10, 12)</td>\n",
       "      <td>16.1965</td>\n",
       "      <td>8.09826</td>\n",
       "    </tr>\n",
       "    <tr>\n",
       "      <th>3</th>\n",
       "      <td>-34.1001</td>\n",
       "      <td>20.87</td>\n",
       "      <td>[-9.43012884381, -25.9584955394, -36.184188174...</td>\n",
       "      <td>(10, 12, 5)</td>\n",
       "      <td>20.7142</td>\n",
       "      <td>10.3571</td>\n",
       "    </tr>\n",
       "    <tr>\n",
       "      <th>4</th>\n",
       "      <td>-33.7681</td>\n",
       "      <td>20.1638</td>\n",
       "      <td>[-8.86076528781, -28.650217633, -35.7246353855...</td>\n",
       "      <td>(10, 3, 12, 5)</td>\n",
       "      <td>20.0132</td>\n",
       "      <td>10.0066</td>\n",
       "    </tr>\n",
       "    <tr>\n",
       "      <th>5</th>\n",
       "      <td>-33.6392</td>\n",
       "      <td>20.5271</td>\n",
       "      <td>[-8.90807628524, -28.0684679108, -35.827463022...</td>\n",
       "      <td>(0, 10, 3, 12, 5)</td>\n",
       "      <td>20.3738</td>\n",
       "      <td>10.1869</td>\n",
       "    </tr>\n",
       "    <tr>\n",
       "      <th>6</th>\n",
       "      <td>-33.6276</td>\n",
       "      <td>19.0859</td>\n",
       "      <td>[-9.549485942, -30.9724602876, -32.6689523347,...</td>\n",
       "      <td>(0, 3, 5, 7, 10, 12)</td>\n",
       "      <td>18.9433</td>\n",
       "      <td>9.47167</td>\n",
       "    </tr>\n",
       "    <tr>\n",
       "      <th>7</th>\n",
       "      <td>-32.4082</td>\n",
       "      <td>19.1455</td>\n",
       "      <td>[-10.0177149635, -28.3780298492, -30.926917231...</td>\n",
       "      <td>(0, 2, 3, 5, 7, 10, 12)</td>\n",
       "      <td>19.0026</td>\n",
       "      <td>9.50128</td>\n",
       "    </tr>\n",
       "    <tr>\n",
       "      <th>8</th>\n",
       "      <td>-32.3697</td>\n",
       "      <td>18.533</td>\n",
       "      <td>[-11.1431684243, -27.5765510172, -31.168994094...</td>\n",
       "      <td>(0, 1, 2, 3, 5, 7, 10, 12)</td>\n",
       "      <td>18.3946</td>\n",
       "      <td>9.19731</td>\n",
       "    </tr>\n",
       "    <tr>\n",
       "      <th>9</th>\n",
       "      <td>-32.4016</td>\n",
       "      <td>21.5561</td>\n",
       "      <td>[-10.8972555995, -25.739780653, -30.1837430353...</td>\n",
       "      <td>(0, 1, 2, 3, 5, 7, 10, 11, 12)</td>\n",
       "      <td>21.3952</td>\n",
       "      <td>10.6976</td>\n",
       "    </tr>\n",
       "    <tr>\n",
       "      <th>10</th>\n",
       "      <td>-32.8504</td>\n",
       "      <td>22.6508</td>\n",
       "      <td>[-12.3909282079, -22.1533250755, -33.385407342...</td>\n",
       "      <td>(0, 1, 2, 3, 4, 5, 7, 10, 11, 12)</td>\n",
       "      <td>22.4816</td>\n",
       "      <td>11.2408</td>\n",
       "    </tr>\n",
       "    <tr>\n",
       "      <th>11</th>\n",
       "      <td>-34.1065</td>\n",
       "      <td>24.7019</td>\n",
       "      <td>[-12.6429253721, -22.1676650245, -33.956999528...</td>\n",
       "      <td>(0, 1, 2, 3, 4, 5, 6, 7, 10, 11, 12)</td>\n",
       "      <td>24.5175</td>\n",
       "      <td>12.2587</td>\n",
       "    </tr>\n",
       "    <tr>\n",
       "      <th>12</th>\n",
       "      <td>-35.5814</td>\n",
       "      <td>25.693</td>\n",
       "      <td>[-12.7303397453, -25.0145323483, -34.211898373...</td>\n",
       "      <td>(0, 1, 2, 3, 4, 5, 6, 7, 9, 10, 11, 12)</td>\n",
       "      <td>25.5012</td>\n",
       "      <td>12.7506</td>\n",
       "    </tr>\n",
       "    <tr>\n",
       "      <th>13</th>\n",
       "      <td>-37.1318</td>\n",
       "      <td>23.2657</td>\n",
       "      <td>[-12.4603005692, -26.0486211062, -33.074137979...</td>\n",
       "      <td>(0, 1, 2, 3, 4, 5, 6, 7, 8, 9, 10, 11, 12)</td>\n",
       "      <td>23.0919</td>\n",
       "      <td>11.546</td>\n",
       "    </tr>\n",
       "  </tbody>\n",
       "</table>\n",
       "</div>"
      ],
      "text/plain": [
       "   avg_score ci_bound                                          cv_scores  \\\n",
       "1   -42.6185  19.0465  [-23.5582499971, -41.8215743748, -73.993608929...   \n",
       "2   -36.0651  16.3184  [-18.002498199, -40.1507894517, -56.5286659068...   \n",
       "3   -34.1001    20.87  [-9.43012884381, -25.9584955394, -36.184188174...   \n",
       "4   -33.7681  20.1638  [-8.86076528781, -28.650217633, -35.7246353855...   \n",
       "5   -33.6392  20.5271  [-8.90807628524, -28.0684679108, -35.827463022...   \n",
       "6   -33.6276  19.0859  [-9.549485942, -30.9724602876, -32.6689523347,...   \n",
       "7   -32.4082  19.1455  [-10.0177149635, -28.3780298492, -30.926917231...   \n",
       "8   -32.3697   18.533  [-11.1431684243, -27.5765510172, -31.168994094...   \n",
       "9   -32.4016  21.5561  [-10.8972555995, -25.739780653, -30.1837430353...   \n",
       "10  -32.8504  22.6508  [-12.3909282079, -22.1533250755, -33.385407342...   \n",
       "11  -34.1065  24.7019  [-12.6429253721, -22.1676650245, -33.956999528...   \n",
       "12  -35.5814   25.693  [-12.7303397453, -25.0145323483, -34.211898373...   \n",
       "13  -37.1318  23.2657  [-12.4603005692, -26.0486211062, -33.074137979...   \n",
       "\n",
       "                                   feature_idx  std_dev  std_err  \n",
       "1                                        (12,)  18.9042  9.45212  \n",
       "2                                     (10, 12)  16.1965  8.09826  \n",
       "3                                  (10, 12, 5)  20.7142  10.3571  \n",
       "4                               (10, 3, 12, 5)  20.0132  10.0066  \n",
       "5                            (0, 10, 3, 12, 5)  20.3738  10.1869  \n",
       "6                         (0, 3, 5, 7, 10, 12)  18.9433  9.47167  \n",
       "7                      (0, 2, 3, 5, 7, 10, 12)  19.0026  9.50128  \n",
       "8                   (0, 1, 2, 3, 5, 7, 10, 12)  18.3946  9.19731  \n",
       "9               (0, 1, 2, 3, 5, 7, 10, 11, 12)  21.3952  10.6976  \n",
       "10           (0, 1, 2, 3, 4, 5, 7, 10, 11, 12)  22.4816  11.2408  \n",
       "11        (0, 1, 2, 3, 4, 5, 6, 7, 10, 11, 12)  24.5175  12.2587  \n",
       "12     (0, 1, 2, 3, 4, 5, 6, 7, 9, 10, 11, 12)  25.5012  12.7506  \n",
       "13  (0, 1, 2, 3, 4, 5, 6, 7, 8, 9, 10, 11, 12)  23.0919   11.546  "
      ]
     },
     "execution_count": 104,
     "metadata": {},
     "output_type": "execute_result"
    }
   ],
   "source": [
    "import numpy as np\n",
    "import pandas as pd\n",
    "import os\n",
    "import matplotlib.pyplot as plt\n",
    "from sklearn.model_selection import train_test_split\n",
    "from sklearn.linear_model import LinearRegression\n",
    "from sklearn.datasets import load_boston\n",
    "from mlxtend.plotting import plot_sequential_feature_selection as plot_sfs\n",
    "import matplotlib.pyplot as plt\n",
    "from mlxtend.feature_selection import SequentialFeatureSelector as SFS\n",
    "from sklearn.linear_model import LinearRegression\n",
    "\n",
    "\n",
    "df = pd.read_csv(\"Boston.csv\",encoding = \"ISO-8859-1\")\n",
    "#Rename the columns\n",
    "df.columns=[\"no\",\"crimeRate\",\"zone\",\"indus\",\"chasRiver\",\"NO2\",\"rooms\",\"age\",\n",
    "              \"distances\",\"idxHighways\",\"taxRate\",\"teacherRatio\",\"color\",\"status\",\"cost\"]\n",
    "X=df[[\"crimeRate\",\"zone\",\"indus\",\"chasRiver\",\"NO2\",\"rooms\",\"age\",\n",
    "              \"distances\",\"idxHighways\",\"taxRate\",\"teacherRatio\",\"color\",\"status\"]]\n",
    "y=df['cost']\n",
    "lr = LinearRegression()\n",
    "\n",
    "sfs = SFS(lr, \n",
    "         k_features=(1,13), \n",
    "          forward=True, \n",
    "         floating=False, \n",
    "          scoring='neg_mean_squared_error',\n",
    "          cv=5)\n",
    "\n",
    "sfs = sfs.fit(X.as_matrix(), y.as_matrix())\n",
    "a=sfs.get_metric_dict()\n",
    "pd.DataFrame.from_dict(sfs.get_metric_dict(confidence_interval=0.90)).T"
   ]
  },
  {
   "cell_type": "code",
   "execution_count": 2,
   "metadata": {},
   "outputs": [
    {
     "name": "stderr",
     "output_type": "stream",
     "text": [
      "Features: 8191/8191"
     ]
    }
   ],
   "source": [
    "import numpy as np\n",
    "import pandas as pd\n",
    "import os\n",
    "import matplotlib.pyplot as plt\n",
    "from sklearn.model_selection import train_test_split\n",
    "from sklearn.linear_model import LinearRegression\n",
    "from mlxtend.feature_selection import ExhaustiveFeatureSelector as EFS\n",
    "df = pd.read_csv(\"Boston.csv\",encoding = \"ISO-8859-1\")\n",
    "#Rename the columns\n",
    "df.columns=[\"no\",\"crimeRate\",\"zone\",\"indus\",\"chasRiver\",\"NO2\",\"rooms\",\"age\",\n",
    "              \"distances\",\"idxHighways\",\"taxRate\",\"teacherRatio\",\"color\",\"status\",\"cost\"]\n",
    "X=df[[\"crimeRate\",\"zone\",\"indus\",\"chasRiver\",\"NO2\",\"rooms\",\"age\",\n",
    "              \"distances\",\"idxHighways\",\"taxRate\",\"teacherRatio\",\"color\",\"status\"]]\n",
    "y=df['cost']\n",
    "lr = LinearRegression()\n",
    "efs1 = EFS(lr, \n",
    "           min_features=1,\n",
    "           max_features=13,\n",
    "           scoring='neg_mean_squared_error',\n",
    "           print_progress=True,\n",
    "           cv=5)\n",
    "\n",
    "\n",
    "efs1 = efs1.fit(X.as_matrix(), y.as_matrix())"
   ]
  },
  {
   "cell_type": "code",
   "execution_count": 10,
   "metadata": {},
   "outputs": [
    {
     "data": {
      "text/plain": [
       "ExhaustiveFeatureSelector(clone_estimator=True, cv=5,\n",
       "             estimator=LinearRegression(copy_X=True, fit_intercept=True, n_jobs=1, normalize=False),\n",
       "             max_features=13, min_features=1, n_jobs=1,\n",
       "             pre_dispatch='2*n_jobs', print_progress=True,\n",
       "             scoring='neg_mean_squared_error')"
      ]
     },
     "execution_count": 10,
     "metadata": {},
     "output_type": "execute_result"
    }
   ],
   "source": [
    "efs1"
   ]
  },
  {
   "cell_type": "code",
   "execution_count": 3,
   "metadata": {},
   "outputs": [
    {
     "name": "stdout",
     "output_type": "stream",
     "text": [
      "Best accuracy score: -28.92\n",
      "('Best subset:', (0, 1, 4, 6, 7, 8, 9, 10, 11, 12))\n"
     ]
    }
   ],
   "source": [
    "print('Best accuracy score: %.2f' % efs1.best_score_)\n",
    "print('Best subset:', efs1.best_idx_)"
   ]
  },
  {
   "cell_type": "code",
   "execution_count": 17,
   "metadata": {},
   "outputs": [
    {
     "data": {
      "text/plain": [
       "<matplotlib.figure.Figure at 0xdef4b00>"
      ]
     },
     "metadata": {},
     "output_type": "display_data"
    },
    {
     "data": {
      "text/plain": [
       "<matplotlib.figure.Figure at 0xdef4da0>"
      ]
     },
     "metadata": {},
     "output_type": "display_data"
    },
    {
     "data": {
      "image/png": "[encoded data removed]",
      "text/plain": [
       "<matplotlib.figure.Figure at 0xdee50b8>"
      ]
     },
     "metadata": {},
     "output_type": "display_data"
    }
   ],
   "source": [
    "metric_dict = efs1.get_metric_dict()\n",
    "\n",
    "fig = plt.figure()\n",
    "k_feat = sorted(metric_dict.keys())\n",
    "avg = [metric_dict[k]['avg_score'] for k in k_feat]\n",
    "plt.plot(k_feat, avg, color='blue', marker='o')\n",
    "plt.xlabel('Number of Features')\n",
    "feature_min = len(metric_dict[k_feat[0]]['feature_idx'])\n",
    "feature_max = len(metric_dict[k_feat[-1]]['feature_idx'])\n",
    "plt.xticks(k_feat, \n",
    "           [str(metric_dict[k]['feature_idx']) for k in k_feat], \n",
    "           rotation=90)\n",
    "plt.show()"
   ]
  },
  {
   "cell_type": "code",
   "execution_count": 27,
   "metadata": {},
   "outputs": [
    {
     "data": {
      "image/png": "[encoded data removed]",
      "text/plain": [
       "<matplotlib.figure.Figure at 0x8570e10>"
      ]
     },
     "metadata": {},
     "output_type": "display_data"
    }
   ],
   "source": [
    "metric_dict = efs1.get_metric_dict()\n",
    "\n",
    "fig = plt.figure()\n",
    "k_feat = sorted(metric_dict.keys())\n",
    "avg = [metric_dict[k]['avg_score'] for k in k_feat]\n",
    "\n",
    "upper, lower = [], []\n",
    "for k in k_feat:\n",
    "    upper.append(metric_dict[k]['avg_score'] +\n",
    "                 metric_dict[k]['std_dev'])\n",
    "    lower.append(metric_dict[k]['avg_score'] -\n",
    "                 metric_dict[k]['std_dev'])\n",
    "\n",
    "plt.fill_between(k_feat,\n",
    "                 upper,\n",
    "                 lower,\n",
    "                 alpha=0.2,\n",
    "                 color='blue',\n",
    "                 lw=1)\n",
    "\n",
    "plt.plot(k_feat, avg, color='blue', marker='o')\n",
    "plt.ylabel('Accuracy +/- Standard Deviation')\n",
    "plt.xlabel('Number of Features')\n",
    "feature_min = len(metric_dict[k_feat[0]]['feature_idx'])\n",
    "feature_max = len(metric_dict[k_feat[-1]]['feature_idx'])\n",
    "plt.xticks(k_feat, \n",
    "           [str(metric_dict[k]['feature_idx']) for k in k_feat], \n",
    "           rotation=90)\n",
    "plt.show()"
   ]
  },
  {
   "cell_type": "code",
   "execution_count": null,
   "metadata": {
    "collapsed": true
   },
   "outputs": [],
   "source": []
  }
 ],
 "metadata": {
  "kernelspec": {
   "display_name": "Python 2",
   "language": "python",
   "name": "python2"
  },
  "language_info": {
   "codemirror_mode": {
    "name": "ipython",
    "version": 2
   },
   "file_extension": ".py",
   "mimetype": "text/x-python",
   "name": "python",
   "nbconvert_exporter": "python",
   "pygments_lexer": "ipython2",
   "version": "2.7.13"
  }
 },
 "nbformat": 4,
 "nbformat_minor": 2
}

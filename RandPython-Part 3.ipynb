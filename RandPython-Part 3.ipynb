{
 "cells": [
  {
   "cell_type": "code",
   "execution_count": 1,
   "metadata": {
    "collapsed": true
   },
   "outputs": [],
   "source": [
    "import numpy as np\n",
    "import pandas as pd\n",
    "import os\n",
    "import matplotlib.pyplot as plt\n",
    "from sklearn.model_selection import train_test_split\n",
    "os.chdir(\"C:\\\\Users\\\\Ganesh\\\\RandPython-Part3\")\n",
    "from sklearn.datasets import make_classification, make_blobs"
   ]
  },
  {
   "cell_type": "code",
   "execution_count": 2,
   "metadata": {},
   "outputs": [
    {
     "data": {
      "text/plain": [
       "(506, 13)"
      ]
     },
     "execution_count": 2,
     "metadata": {},
     "output_type": "execute_result"
    }
   ],
   "source": [
    "\n",
    "df = pd.read_csv(\"Boston.csv\",encoding = \"ISO-8859-1\")\n",
    "X=df[['crim','zn','indus','chas', 'nox', 'rm','age','dis','rad','tax','ptratio','black','lstat']]\n",
    "y=df['medv']\n",
    "X.shape\n"
   ]
  },
  {
   "cell_type": "code",
   "execution_count": 27,
   "metadata": {
    "collapsed": true
   },
   "outputs": [],
   "source": [
    "X_train, X_test, y_train, y_test = train_test_split(X, y,random_state = 0)\n",
    "#X_train=X_train.reshape(-1,1)\n",
    "#X_test=X_test.reshape(-1,1)"
   ]
  },
  {
   "cell_type": "code",
   "execution_count": 28,
   "metadata": {},
   "outputs": [
    {
     "data": {
      "text/plain": [
       "(379, 13)"
      ]
     },
     "execution_count": 28,
     "metadata": {},
     "output_type": "execute_result"
    }
   ],
   "source": [
    "X_train.shape"
   ]
  },
  {
   "cell_type": "code",
   "execution_count": 34,
   "metadata": {},
   "outputs": [],
   "source": [
    "from mlxtend.feature_selection import SequentialFeatureSelector as SFS\n",
    "from sklearn.linear_model import LinearRegression\n",
    "\n",
    "#linreg = LinearRegression()\n",
    "linreg = LinearRegression()"
   ]
  },
  {
   "cell_type": "code",
   "execution_count": 7,
   "metadata": {},
   "outputs": [
    {
     "ename": "NameError",
     "evalue": "name 'plot_sfs' is not defined",
     "output_type": "error",
     "traceback": [
      "\u001b[1;31m---------------------------------------------------------------------------\u001b[0m",
      "\u001b[1;31mNameError\u001b[0m                                 Traceback (most recent call last)",
      "\u001b[1;32m<ipython-input-7-3daddfa1ea43>\u001b[0m in \u001b[0;36m<module>\u001b[1;34m()\u001b[0m\n\u001b[0;32m     15\u001b[0m \u001b[1;33m\u001b[0m\u001b[0m\n\u001b[0;32m     16\u001b[0m \u001b[0msfs\u001b[0m \u001b[1;33m=\u001b[0m \u001b[0msfs\u001b[0m\u001b[1;33m.\u001b[0m\u001b[0mfit\u001b[0m\u001b[1;33m(\u001b[0m\u001b[0mX\u001b[0m\u001b[1;33m.\u001b[0m\u001b[0mas_matrix\u001b[0m\u001b[1;33m(\u001b[0m\u001b[1;33m)\u001b[0m\u001b[1;33m,\u001b[0m \u001b[0my\u001b[0m\u001b[1;33m.\u001b[0m\u001b[0mas_matrix\u001b[0m\u001b[1;33m(\u001b[0m\u001b[1;33m)\u001b[0m\u001b[1;33m)\u001b[0m\u001b[1;33m\u001b[0m\u001b[0m\n\u001b[1;32m---> 17\u001b[1;33m \u001b[0mfig\u001b[0m \u001b[1;33m=\u001b[0m \u001b[0mplot_sfs\u001b[0m\u001b[1;33m(\u001b[0m\u001b[0msfs\u001b[0m\u001b[1;33m.\u001b[0m\u001b[0mget_metric_dict\u001b[0m\u001b[1;33m(\u001b[0m\u001b[1;33m)\u001b[0m\u001b[1;33m,\u001b[0m \u001b[0mkind\u001b[0m\u001b[1;33m=\u001b[0m\u001b[1;34m'std_err'\u001b[0m\u001b[1;33m)\u001b[0m\u001b[1;33m\u001b[0m\u001b[0m\n\u001b[0m\u001b[0;32m     18\u001b[0m \u001b[1;33m\u001b[0m\u001b[0m\n\u001b[0;32m     19\u001b[0m \u001b[0mplt\u001b[0m\u001b[1;33m.\u001b[0m\u001b[0mtitle\u001b[0m\u001b[1;33m(\u001b[0m\u001b[1;34m'Sequential Forward Selection (w. StdErr)'\u001b[0m\u001b[1;33m)\u001b[0m\u001b[1;33m\u001b[0m\u001b[0m\n",
      "\u001b[1;31mNameError\u001b[0m: name 'plot_sfs' is not defined"
     ]
    }
   ],
   "source": [
    "from sklearn.linear_model import LinearRegression\n",
    "from sklearn.datasets import load_boston\n",
    "\n",
    "df = pd.read_csv(\"Boston.csv\",encoding = \"ISO-8859-1\")\n",
    "X=df[['crim','zn','indus','chas', 'nox', 'rm','age','dis','rad','tax','ptratio','black','lstat']]\n",
    "y=df['medv']\n",
    "lr = LinearRegression()\n",
    "\n",
    "sfs = SFS(lr, \n",
    "          k_features=13, \n",
    "          forward=True, \n",
    "          floating=False, \n",
    "          scoring='neg_mean_squared_error',\n",
    "          cv=5)\n",
    "\n",
    "sfs = sfs.fit(X.as_matrix(), y.as_matrix())\n",
    "fig = plot_sfs(sfs.get_metric_dict(), kind='std_err')\n",
    "\n",
    "plt.title('Sequential Forward Selection (w. StdErr)')\n",
    "plt.grid()\n",
    "plt.show()"
   ]
  },
  {
   "cell_type": "code",
   "execution_count": 18,
   "metadata": {},
   "outputs": [
    {
     "data": {
      "image/png": "[encoded data removed]",
      "text/plain": [
       "<matplotlib.figure.Figure at 0xbd887f0>"
      ]
     },
     "metadata": {},
     "output_type": "display_data"
    }
   ],
   "source": [
    "from sklearn.linear_model import LinearRegression\n",
    "from sklearn.datasets import load_boston\n",
    "from mlxtend.plotting import plot_sequential_feature_selection as plot_sfs\n",
    "import matplotlib.pyplot as plt\n",
    "\n",
    "df = pd.read_csv(\"Boston.csv\",encoding = \"ISO-8859-1\")\n",
    "X=df[['crim','zn','indus','chas', 'nox', 'rm','age','dis','rad','tax','ptratio','black','lstat']]\n",
    "y=df['medv']\n",
    "lr = LinearRegression()\n",
    "\n",
    "sfs = SFS(lr, \n",
    "          k_features=(1,13), \n",
    "          forward=False, \n",
    "          floating=False, \n",
    "          scoring='neg_mean_squared_error',\n",
    "          cv=5)\n",
    "\n",
    "sfs = sfs.fit(X.as_matrix(), y.as_matrix())\n",
    "fig = plot_sfs(sfs.get_metric_dict(), kind='std_err')\n",
    "\n",
    "plt.title('Sequential Forward Selection (w. StdErr)')\n",
    "plt.grid()\n",
    "plt.show()\n"
   ]
  },
  {
   "cell_type": "code",
   "execution_count": 21,
   "metadata": {},
   "outputs": [
    {
     "data": {
      "text/html": [
       "<div>\n",
       "<style>\n",
       "    .dataframe thead tr:only-child th {\n",
       "        text-align: right;\n",
       "    }\n",
       "\n",
       "    .dataframe thead th {\n",
       "        text-align: left;\n",
       "    }\n",
       "\n",
       "    .dataframe tbody tr th {\n",
       "        vertical-align: top;\n",
       "    }\n",
       "</style>\n",
       "<table border=\"1\" class=\"dataframe\">\n",
       "  <thead>\n",
       "    <tr style=\"text-align: right;\">\n",
       "      <th></th>\n",
       "      <th>avg_score</th>\n",
       "      <th>ci_bound</th>\n",
       "      <th>cv_scores</th>\n",
       "      <th>feature_idx</th>\n",
       "      <th>std_dev</th>\n",
       "      <th>std_err</th>\n",
       "    </tr>\n",
       "  </thead>\n",
       "  <tbody>\n",
       "    <tr>\n",
       "      <th>1</th>\n",
       "      <td>-42.6185</td>\n",
       "      <td>19.0465</td>\n",
       "      <td>[-23.5582499971, -41.8215743748, -73.993608929...</td>\n",
       "      <td>(12,)</td>\n",
       "      <td>18.9042</td>\n",
       "      <td>9.45212</td>\n",
       "    </tr>\n",
       "    <tr>\n",
       "      <th>2</th>\n",
       "      <td>-36.0651</td>\n",
       "      <td>16.3184</td>\n",
       "      <td>[-18.002498199, -40.1507894517, -56.5286659068...</td>\n",
       "      <td>(10, 12)</td>\n",
       "      <td>16.1965</td>\n",
       "      <td>8.09826</td>\n",
       "    </tr>\n",
       "    <tr>\n",
       "      <th>3</th>\n",
       "      <td>-35.4992</td>\n",
       "      <td>13.9619</td>\n",
       "      <td>[-17.2329292677, -44.4178648308, -51.633177846...</td>\n",
       "      <td>(10, 12, 7)</td>\n",
       "      <td>13.8576</td>\n",
       "      <td>6.92881</td>\n",
       "    </tr>\n",
       "    <tr>\n",
       "      <th>4</th>\n",
       "      <td>-33.463</td>\n",
       "      <td>12.4081</td>\n",
       "      <td>[-20.6415333292, -37.3247852146, -47.479302977...</td>\n",
       "      <td>(12, 10, 4, 7)</td>\n",
       "      <td>12.3154</td>\n",
       "      <td>6.15772</td>\n",
       "    </tr>\n",
       "    <tr>\n",
       "      <th>5</th>\n",
       "      <td>-33.1038</td>\n",
       "      <td>10.6156</td>\n",
       "      <td>[-20.2872309863, -34.6367078466, -45.931870352...</td>\n",
       "      <td>(4, 7, 8, 10, 12)</td>\n",
       "      <td>10.5363</td>\n",
       "      <td>5.26816</td>\n",
       "    </tr>\n",
       "    <tr>\n",
       "      <th>6</th>\n",
       "      <td>-32.0638</td>\n",
       "      <td>10.0933</td>\n",
       "      <td>[-19.4463829372, -33.460638577, -42.726257249,...</td>\n",
       "      <td>(4, 7, 8, 9, 10, 12)</td>\n",
       "      <td>10.0179</td>\n",
       "      <td>5.00896</td>\n",
       "    </tr>\n",
       "    <tr>\n",
       "      <th>7</th>\n",
       "      <td>-30.7133</td>\n",
       "      <td>9.23881</td>\n",
       "      <td>[-19.4425181917, -31.1742902259, -40.531266671...</td>\n",
       "      <td>(1, 4, 7, 8, 9, 10, 12)</td>\n",
       "      <td>9.16981</td>\n",
       "      <td>4.58491</td>\n",
       "    </tr>\n",
       "    <tr>\n",
       "      <th>8</th>\n",
       "      <td>-29.7432</td>\n",
       "      <td>9.84468</td>\n",
       "      <td>[-19.445277268, -30.0641187173, -40.2561247122...</td>\n",
       "      <td>(1, 4, 7, 8, 9, 10, 11, 12)</td>\n",
       "      <td>9.77116</td>\n",
       "      <td>4.88558</td>\n",
       "    </tr>\n",
       "    <tr>\n",
       "      <th>9</th>\n",
       "      <td>-29.0878</td>\n",
       "      <td>9.45027</td>\n",
       "      <td>[-19.3545569877, -30.094768669, -39.7506036377...</td>\n",
       "      <td>(0, 1, 4, 7, 8, 9, 10, 11, 12)</td>\n",
       "      <td>9.37969</td>\n",
       "      <td>4.68985</td>\n",
       "    </tr>\n",
       "    <tr>\n",
       "      <th>10</th>\n",
       "      <td>-28.9225</td>\n",
       "      <td>9.39697</td>\n",
       "      <td>[-18.562171585, -29.968504938, -39.9586835965,...</td>\n",
       "      <td>(0, 1, 4, 6, 7, 8, 9, 10, 11, 12)</td>\n",
       "      <td>9.3268</td>\n",
       "      <td>4.6634</td>\n",
       "    </tr>\n",
       "    <tr>\n",
       "      <th>11</th>\n",
       "      <td>-29.4301</td>\n",
       "      <td>10.8831</td>\n",
       "      <td>[-18.3346152225, -30.3312847532, -45.065432793...</td>\n",
       "      <td>(0, 1, 3, 4, 6, 7, 8, 9, 10, 11, 12)</td>\n",
       "      <td>10.8018</td>\n",
       "      <td>5.40092</td>\n",
       "    </tr>\n",
       "    <tr>\n",
       "      <th>12</th>\n",
       "      <td>-30.4589</td>\n",
       "      <td>11.1486</td>\n",
       "      <td>[-18.493389527, -35.0290639374, -45.1558231765...</td>\n",
       "      <td>(0, 1, 2, 3, 4, 6, 7, 8, 9, 10, 11, 12)</td>\n",
       "      <td>11.0653</td>\n",
       "      <td>5.53265</td>\n",
       "    </tr>\n",
       "    <tr>\n",
       "      <th>13</th>\n",
       "      <td>-37.1318</td>\n",
       "      <td>23.2657</td>\n",
       "      <td>[-12.4603005692, -26.0486211062, -33.074137979...</td>\n",
       "      <td>(0, 1, 2, 3, 4, 5, 6, 7, 8, 9, 10, 11, 12)</td>\n",
       "      <td>23.0919</td>\n",
       "      <td>11.546</td>\n",
       "    </tr>\n",
       "  </tbody>\n",
       "</table>\n",
       "</div>"
      ],
      "text/plain": [
       "   avg_score ci_bound                                          cv_scores  \\\n",
       "1   -42.6185  19.0465  [-23.5582499971, -41.8215743748, -73.993608929...   \n",
       "2   -36.0651  16.3184  [-18.002498199, -40.1507894517, -56.5286659068...   \n",
       "3   -35.4992  13.9619  [-17.2329292677, -44.4178648308, -51.633177846...   \n",
       "4    -33.463  12.4081  [-20.6415333292, -37.3247852146, -47.479302977...   \n",
       "5   -33.1038  10.6156  [-20.2872309863, -34.6367078466, -45.931870352...   \n",
       "6   -32.0638  10.0933  [-19.4463829372, -33.460638577, -42.726257249,...   \n",
       "7   -30.7133  9.23881  [-19.4425181917, -31.1742902259, -40.531266671...   \n",
       "8   -29.7432  9.84468  [-19.445277268, -30.0641187173, -40.2561247122...   \n",
       "9   -29.0878  9.45027  [-19.3545569877, -30.094768669, -39.7506036377...   \n",
       "10  -28.9225  9.39697  [-18.562171585, -29.968504938, -39.9586835965,...   \n",
       "11  -29.4301  10.8831  [-18.3346152225, -30.3312847532, -45.065432793...   \n",
       "12  -30.4589  11.1486  [-18.493389527, -35.0290639374, -45.1558231765...   \n",
       "13  -37.1318  23.2657  [-12.4603005692, -26.0486211062, -33.074137979...   \n",
       "\n",
       "                                   feature_idx  std_dev  std_err  \n",
       "1                                        (12,)  18.9042  9.45212  \n",
       "2                                     (10, 12)  16.1965  8.09826  \n",
       "3                                  (10, 12, 7)  13.8576  6.92881  \n",
       "4                               (12, 10, 4, 7)  12.3154  6.15772  \n",
       "5                            (4, 7, 8, 10, 12)  10.5363  5.26816  \n",
       "6                         (4, 7, 8, 9, 10, 12)  10.0179  5.00896  \n",
       "7                      (1, 4, 7, 8, 9, 10, 12)  9.16981  4.58491  \n",
       "8                  (1, 4, 7, 8, 9, 10, 11, 12)  9.77116  4.88558  \n",
       "9               (0, 1, 4, 7, 8, 9, 10, 11, 12)  9.37969  4.68985  \n",
       "10           (0, 1, 4, 6, 7, 8, 9, 10, 11, 12)   9.3268   4.6634  \n",
       "11        (0, 1, 3, 4, 6, 7, 8, 9, 10, 11, 12)  10.8018  5.40092  \n",
       "12     (0, 1, 2, 3, 4, 6, 7, 8, 9, 10, 11, 12)  11.0653  5.53265  \n",
       "13  (0, 1, 2, 3, 4, 5, 6, 7, 8, 9, 10, 11, 12)  23.0919   11.546  "
      ]
     },
     "execution_count": 21,
     "metadata": {},
     "output_type": "execute_result"
    }
   ],
   "source": [
    "pd.DataFrame.from_dict(sfs.get_metric_dict(confidence_interval=0.90)).T"
   ]
  },
  {
   "cell_type": "code",
   "execution_count": 25,
   "metadata": {},
   "outputs": [
    {
     "data": {
      "image/png": "[encoded data removed]",
      "text/plain": [
       "<matplotlib.figure.Figure at 0xc038c18>"
      ]
     },
     "metadata": {},
     "output_type": "display_data"
    }
   ],
   "source": [
    "a=sfs.get_metric_dict()\n",
    "\n",
    "m=[]\n",
    "for i in np.arange(1,13):\n",
    "    m.append(np.mean(a[i]['std_err']))\n",
    "\n",
    "l=np.arange(1,13)\n",
    "plt.plot(l,m)\n",
    "plt.title('Bestl Forward Selection (w. StdErr)')\n",
    "plt.grid()\n",
    "plt.show()"
   ]
  },
  {
   "cell_type": "markdown",
   "metadata": {},
   "source": [
    "linreg"
   ]
  },
  {
   "cell_type": "code",
   "execution_count": 11,
   "metadata": {},
   "outputs": [
    {
     "name": "stdout",
     "output_type": "stream",
     "text": [
      "best combination (ACC: -32.370): (0, 1, 2, 3, 5, 7, 10, 12)\n",
      "\n",
      "('all subsets:\\n', {1: {'avg_score': -42.618472789410582, 'feature_idx': (12,), 'cv_scores': array([-23.55825   , -41.82157437, -73.99360893, -50.50118016, -23.21775049])}, 2: {'avg_score': -36.0651299642116, 'feature_idx': (10, 12), 'cv_scores': array([-18.0024982 , -40.15078945, -56.52866591, -49.08360802, -16.56008824])}, 3: {'avg_score': -34.100081490306835, 'feature_idx': (10, 12, 5), 'cv_scores': array([ -9.43012884, -25.95849554, -36.18418817, -71.75796657, -27.16962833])}, 4: {'avg_score': -33.76808458181474, 'feature_idx': (10, 3, 12, 5), 'cv_scores': array([ -8.86076529, -28.65021763, -35.72463539, -69.69223644, -25.91256816])}, 5: {'avg_score': -33.639224148324885, 'feature_idx': (0, 10, 3, 12, 5), 'cv_scores': array([ -8.90807629, -28.06846791, -35.82746302, -70.42063882, -24.97147471])}, 6: {'avg_score': -33.627647762327811, 'feature_idx': (0, 3, 5, 7, 10, 12), 'cv_scores': array([ -9.54948594, -30.97246029, -32.66895233, -67.7603443 , -27.18699595])}, 7: {'avg_score': -32.408157802789958, 'feature_idx': (0, 2, 3, 5, 7, 10, 12), 'cv_scores': array([-10.01771496, -28.37802985, -30.92691723, -67.53055435, -25.18757262])}, 8: {'avg_score': -32.369720022593341, 'feature_idx': (0, 1, 2, 3, 5, 7, 10, 12), 'cv_scores': array([-11.14316842, -27.57655102, -31.16899409, -66.55119563, -25.40869095])}, 9: {'avg_score': -32.401564682249997, 'feature_idx': (0, 1, 2, 3, 5, 7, 10, 11, 12), 'cv_scores': array([-10.8972556 , -25.73978065, -30.18374304, -73.23955402, -21.9474901 ])}, 10: {'avg_score': -32.850428838313164, 'feature_idx': (0, 1, 2, 3, 4, 5, 7, 10, 11, 12), 'cv_scores': array([-12.39092821, -22.15332508, -33.38540734, -75.77435344, -20.54813013])}, 11: {'avg_score': -34.106498947796901, 'feature_idx': (0, 1, 2, 3, 4, 5, 6, 7, 10, 11, 12), 'cv_scores': array([-12.64292537, -22.16766502, -33.95699953, -81.20916394, -20.55574087])}, 12: {'avg_score': -35.58136621076919, 'feature_idx': (0, 1, 2, 3, 4, 5, 6, 7, 9, 10, 11, 12), 'cv_scores': array([-12.73033975, -25.01453235, -34.21189837, -84.68277882, -21.26728177])}, 13: {'avg_score': -37.131807467698906, 'feature_idx': (0, 1, 2, 3, 4, 5, 6, 7, 8, 9, 10, 11, 12), 'cv_scores': array([-12.46030057, -26.04862111, -33.07413798, -80.76237112, -33.31360656])}})\n"
     ]
    },
    {
     "data": {
      "image/png": "[encoded data removed]",
      "text/plain": [
       "<matplotlib.figure.Figure at 0x80dbfd0>"
      ]
     },
     "metadata": {},
     "output_type": "display_data"
    }
   ],
   "source": [
    "from sklearn.linear_model import LinearRegression\n",
    "from mlxtend.feature_selection import SequentialFeatureSelector as SFS\n",
    "from mlxtend.plotting import plot_sequential_feature_selection as plot_sfs\n",
    "import matplotlib.pyplot as plt\n",
    "\n",
    "from sklearn.preprocessing import StandardScaler\n",
    "from sklearn.pipeline import make_pipeline\n",
    "\n",
    "df = pd.read_csv(\"Boston.csv\",encoding = \"ISO-8859-1\")\n",
    "X=df[['crim','zn','indus','chas', 'nox', 'rm','age','dis','rad','tax','ptratio','black','lstat']]\n",
    "y=df['medv']\n",
    "lr = LinearRegression()\n",
    "\n",
    "sfs1 = SFS(lr, \n",
    "          k_features=(3,13), \n",
    "          forward=True, \n",
    "          floating=False, \n",
    "          scoring='neg_mean_squared_error',\n",
    "          cv=5)\n",
    "\n",
    "pipe = make_pipeline(StandardScaler(), sfs1)\n",
    "\n",
    "pipe.fit(X, y)\n",
    "\n",
    "print('best combination (ACC: %.3f): %s\\n' % (sfs1.k_score_, sfs1.k_feature_idx_))\n",
    "print('all subsets:\\n', sfs1.subsets_)\n",
    "plot_sfs(sfs1.get_metric_dict(), kind='std_err');\n",
    "from sklearn.linear_model import LinearRegression\n",
    "from sklearn.datasets import load_boston\n",
    "\n",
    "df = pd.read_csv(\"Boston.csv\",encoding = \"ISO-8859-1\")\n",
    "X=df[['crim','zn','indus','chas', 'nox', 'rm','age','dis','rad','tax','ptratio','black','lstat']]\n",
    "y=df['medv']\n",
    "lr = LinearRegression()\n",
    "\n",
    "sfs = SFS(lr, \n",
    "          k_features=1, \n",
    "          forward=False, \n",
    "          floating=False, \n",
    "          scoring='neg_mean_squared_error',\n",
    "          cv=5)\n",
    "\n",
    "sfs = sfs.fit(X.as_matrix(), y.as_matrix())\n",
    "#fig = plot_sfs(sfs.get_metric_dict(), kind='std_err')\n",
    "#fig = plot_sfs(sfs.get_metric_dict(), kind='cv_scores')\n",
    "a=sfs.get_metric_dict()\n",
    "\n",
    "m=[]\n",
    "for i in np.arange(1,13):\n",
    "    m.append(np.mean(a[i]['cv_scores']))\n",
    "\n",
    "    \n",
    "   \n",
    "l=np.arange(1,13)\n",
    "plt.plot(l,m)\n",
    "plt.title('Bestl Forward Selection (w. StdErr)')\n",
    "plt.grid()\n",
    "plt.show()\n"
   ]
  },
  {
   "cell_type": "code",
   "execution_count": 109,
   "metadata": {},
   "outputs": [
    {
     "data": {
      "text/plain": [
       "-37.131807467697335"
      ]
     },
     "execution_count": 109,
     "metadata": {},
     "output_type": "execute_result"
    }
   ],
   "source": [
    "a=sfs.get_metric_dict()\n",
    "np.mean(a[13]['cv_scores'])"
   ]
  },
  {
   "cell_type": "code",
   "execution_count": 58,
   "metadata": {},
   "outputs": [
    {
     "data": {
      "image/png": "[encoded data removed]",
      "text/plain": [
       "<matplotlib.figure.Figure at 0xe22d780>"
      ]
     },
     "metadata": {},
     "output_type": "display_data"
    },
    {
     "data": {
      "image/png": "[encoded data removed]",
      "text/plain": [
       "<matplotlib.figure.Figure at 0xe1b7ba8>"
      ]
     },
     "metadata": {},
     "output_type": "display_data"
    },
    {
     "data": {
      "image/png": "[encoded data removed]",
      "text/plain": [
       "<matplotlib.figure.Figure at 0xe22da90>"
      ]
     },
     "metadata": {},
     "output_type": "display_data"
    },
    {
     "data": {
      "text/html": [
       "<div>\n",
       "<style>\n",
       "    .dataframe thead tr:only-child th {\n",
       "        text-align: right;\n",
       "    }\n",
       "\n",
       "    .dataframe thead th {\n",
       "        text-align: left;\n",
       "    }\n",
       "\n",
       "    .dataframe tbody tr th {\n",
       "        vertical-align: top;\n",
       "    }\n",
       "</style>\n",
       "<table border=\"1\" class=\"dataframe\">\n",
       "  <thead>\n",
       "    <tr style=\"text-align: right;\">\n",
       "      <th></th>\n",
       "      <th>avg_score</th>\n",
       "      <th>ci_bound</th>\n",
       "      <th>cv_scores</th>\n",
       "      <th>feature_idx</th>\n",
       "      <th>std_dev</th>\n",
       "      <th>std_err</th>\n",
       "    </tr>\n",
       "  </thead>\n",
       "  <tbody>\n",
       "    <tr>\n",
       "      <th>1</th>\n",
       "      <td>-1.95335e-29</td>\n",
       "      <td>1.80212e-29</td>\n",
       "      <td>[-4.20725816118e-30, -5.02371618058e-29, -1.76...</td>\n",
       "      <td>(13,)</td>\n",
       "      <td>1.78867e-29</td>\n",
       "      <td>8.94333e-30</td>\n",
       "    </tr>\n",
       "    <tr>\n",
       "      <th>2</th>\n",
       "      <td>-1.79411e-28</td>\n",
       "      <td>2.96585e-28</td>\n",
       "      <td>[-6.81823307885e-29, -1.02473812639e-29, -2.37...</td>\n",
       "      <td>(12, 13)</td>\n",
       "      <td>2.9437e-28</td>\n",
       "      <td>1.47185e-28</td>\n",
       "    </tr>\n",
       "    <tr>\n",
       "      <th>3</th>\n",
       "      <td>-1.2469e-28</td>\n",
       "      <td>1.4855e-28</td>\n",
       "      <td>[-9.30546510943e-29, -2.34002700202e-29, -5.04...</td>\n",
       "      <td>(3, 12, 13)</td>\n",
       "      <td>1.4744e-28</td>\n",
       "      <td>7.37202e-29</td>\n",
       "    </tr>\n",
       "    <tr>\n",
       "      <th>4</th>\n",
       "      <td>-1.37244e-28</td>\n",
       "      <td>1.68192e-28</td>\n",
       "      <td>[-1.62103182092e-29, -2.10883608326e-29, -6.44...</td>\n",
       "      <td>(0, 3, 12, 13)</td>\n",
       "      <td>1.66936e-28</td>\n",
       "      <td>8.3468e-29</td>\n",
       "    </tr>\n",
       "    <tr>\n",
       "      <th>5</th>\n",
       "      <td>-1.97703e-28</td>\n",
       "      <td>1.40832e-28</td>\n",
       "      <td>[-2.71924994388e-29, -7.82612502011e-29, -1.65...</td>\n",
       "      <td>(0, 2, 3, 12, 13)</td>\n",
       "      <td>1.3978e-28</td>\n",
       "      <td>6.98902e-29</td>\n",
       "    </tr>\n",
       "    <tr>\n",
       "      <th>6</th>\n",
       "      <td>-1.43769e-28</td>\n",
       "      <td>1.54523e-28</td>\n",
       "      <td>[-1.27981080976e-28, -1.85577575327e-29, -7.98...</td>\n",
       "      <td>(0, 2, 3, 8, 12, 13)</td>\n",
       "      <td>1.53369e-28</td>\n",
       "      <td>7.66845e-29</td>\n",
       "    </tr>\n",
       "    <tr>\n",
       "      <th>7</th>\n",
       "      <td>-1.21027e-28</td>\n",
       "      <td>7.08188e-29</td>\n",
       "      <td>[-1.46109413936e-28, -5.26740390575e-29, -1.20...</td>\n",
       "      <td>(0, 2, 3, 4, 8, 12, 13)</td>\n",
       "      <td>7.02899e-29</td>\n",
       "      <td>3.5145e-29</td>\n",
       "    </tr>\n",
       "    <tr>\n",
       "      <th>8</th>\n",
       "      <td>-2.41962e-28</td>\n",
       "      <td>3.26758e-28</td>\n",
       "      <td>[-1.140909419e-28, -8.22602282553e-29, -9.9724...</td>\n",
       "      <td>(0, 2, 3, 4, 8, 10, 12, 13)</td>\n",
       "      <td>3.24318e-28</td>\n",
       "      <td>1.62159e-28</td>\n",
       "    </tr>\n",
       "    <tr>\n",
       "      <th>9</th>\n",
       "      <td>-1.8259e-28</td>\n",
       "      <td>1.76583e-28</td>\n",
       "      <td>[-5.96131358573e-29, -2.86489287163e-29, -2.39...</td>\n",
       "      <td>(0, 2, 3, 4, 5, 8, 10, 12, 13)</td>\n",
       "      <td>1.75265e-28</td>\n",
       "      <td>8.76323e-29</td>\n",
       "    </tr>\n",
       "    <tr>\n",
       "      <th>10</th>\n",
       "      <td>-2.85947e-28</td>\n",
       "      <td>3.45078e-28</td>\n",
       "      <td>[-2.71306279952e-29, -1.40057957945e-28, -2.48...</td>\n",
       "      <td>(0, 1, 2, 3, 4, 5, 8, 10, 12, 13)</td>\n",
       "      <td>3.42501e-28</td>\n",
       "      <td>1.7125e-28</td>\n",
       "    </tr>\n",
       "    <tr>\n",
       "      <th>11</th>\n",
       "      <td>-2.02778e-28</td>\n",
       "      <td>1.61462e-28</td>\n",
       "      <td>[-1.23000429771e-28, -6.75452386965e-29, -1.98...</td>\n",
       "      <td>(0, 1, 2, 3, 4, 5, 6, 8, 10, 12, 13)</td>\n",
       "      <td>1.60256e-28</td>\n",
       "      <td>8.0128e-29</td>\n",
       "    </tr>\n",
       "    <tr>\n",
       "      <th>12</th>\n",
       "      <td>-1.48432e-28</td>\n",
       "      <td>1.64113e-28</td>\n",
       "      <td>[-6.65118018128e-29, -4.95810794687e-29, -9.58...</td>\n",
       "      <td>(0, 1, 2, 3, 4, 5, 6, 7, 8, 10, 12, 13)</td>\n",
       "      <td>1.62888e-28</td>\n",
       "      <td>8.14439e-29</td>\n",
       "    </tr>\n",
       "    <tr>\n",
       "      <th>13</th>\n",
       "      <td>-1.20208e-27</td>\n",
       "      <td>1.52777e-27</td>\n",
       "      <td>[-1.46230063251e-27, -1.81172451064e-28, -4.06...</td>\n",
       "      <td>(0, 1, 2, 3, 4, 5, 6, 7, 8, 9, 10, 12, 13)</td>\n",
       "      <td>1.51636e-27</td>\n",
       "      <td>7.58179e-28</td>\n",
       "    </tr>\n",
       "    <tr>\n",
       "      <th>14</th>\n",
       "      <td>-4.16669e-27</td>\n",
       "      <td>6.88643e-27</td>\n",
       "      <td>[-4.60756640093e-28, -6.90136134508e-28, -1.27...</td>\n",
       "      <td>(0, 1, 2, 3, 4, 5, 6, 7, 8, 9, 10, 11, 12, 13)</td>\n",
       "      <td>6.835e-27</td>\n",
       "      <td>3.4175e-27</td>\n",
       "    </tr>\n",
       "  </tbody>\n",
       "</table>\n",
       "</div>"
      ],
      "text/plain": [
       "      avg_score     ci_bound  \\\n",
       "1  -1.95335e-29  1.80212e-29   \n",
       "2  -1.79411e-28  2.96585e-28   \n",
       "3   -1.2469e-28   1.4855e-28   \n",
       "4  -1.37244e-28  1.68192e-28   \n",
       "5  -1.97703e-28  1.40832e-28   \n",
       "6  -1.43769e-28  1.54523e-28   \n",
       "7  -1.21027e-28  7.08188e-29   \n",
       "8  -2.41962e-28  3.26758e-28   \n",
       "9   -1.8259e-28  1.76583e-28   \n",
       "10 -2.85947e-28  3.45078e-28   \n",
       "11 -2.02778e-28  1.61462e-28   \n",
       "12 -1.48432e-28  1.64113e-28   \n",
       "13 -1.20208e-27  1.52777e-27   \n",
       "14 -4.16669e-27  6.88643e-27   \n",
       "\n",
       "                                            cv_scores  \\\n",
       "1   [-4.20725816118e-30, -5.02371618058e-29, -1.76...   \n",
       "2   [-6.81823307885e-29, -1.02473812639e-29, -2.37...   \n",
       "3   [-9.30546510943e-29, -2.34002700202e-29, -5.04...   \n",
       "4   [-1.62103182092e-29, -2.10883608326e-29, -6.44...   \n",
       "5   [-2.71924994388e-29, -7.82612502011e-29, -1.65...   \n",
       "6   [-1.27981080976e-28, -1.85577575327e-29, -7.98...   \n",
       "7   [-1.46109413936e-28, -5.26740390575e-29, -1.20...   \n",
       "8   [-1.140909419e-28, -8.22602282553e-29, -9.9724...   \n",
       "9   [-5.96131358573e-29, -2.86489287163e-29, -2.39...   \n",
       "10  [-2.71306279952e-29, -1.40057957945e-28, -2.48...   \n",
       "11  [-1.23000429771e-28, -6.75452386965e-29, -1.98...   \n",
       "12  [-6.65118018128e-29, -4.95810794687e-29, -9.58...   \n",
       "13  [-1.46230063251e-27, -1.81172451064e-28, -4.06...   \n",
       "14  [-4.60756640093e-28, -6.90136134508e-28, -1.27...   \n",
       "\n",
       "                                       feature_idx      std_dev      std_err  \n",
       "1                                            (13,)  1.78867e-29  8.94333e-30  \n",
       "2                                         (12, 13)   2.9437e-28  1.47185e-28  \n",
       "3                                      (3, 12, 13)   1.4744e-28  7.37202e-29  \n",
       "4                                   (0, 3, 12, 13)  1.66936e-28   8.3468e-29  \n",
       "5                                (0, 2, 3, 12, 13)   1.3978e-28  6.98902e-29  \n",
       "6                             (0, 2, 3, 8, 12, 13)  1.53369e-28  7.66845e-29  \n",
       "7                          (0, 2, 3, 4, 8, 12, 13)  7.02899e-29   3.5145e-29  \n",
       "8                      (0, 2, 3, 4, 8, 10, 12, 13)  3.24318e-28  1.62159e-28  \n",
       "9                   (0, 2, 3, 4, 5, 8, 10, 12, 13)  1.75265e-28  8.76323e-29  \n",
       "10               (0, 1, 2, 3, 4, 5, 8, 10, 12, 13)  3.42501e-28   1.7125e-28  \n",
       "11            (0, 1, 2, 3, 4, 5, 6, 8, 10, 12, 13)  1.60256e-28   8.0128e-29  \n",
       "12         (0, 1, 2, 3, 4, 5, 6, 7, 8, 10, 12, 13)  1.62888e-28  8.14439e-29  \n",
       "13      (0, 1, 2, 3, 4, 5, 6, 7, 8, 9, 10, 12, 13)  1.51636e-27  7.58179e-28  \n",
       "14  (0, 1, 2, 3, 4, 5, 6, 7, 8, 9, 10, 11, 12, 13)    6.835e-27   3.4175e-27  "
      ]
     },
     "execution_count": 58,
     "metadata": {},
     "output_type": "execute_result"
    }
   ],
   "source": [
    "from sklearn.linear_model import LinearRegression\n",
    "from sklearn.datasets import load_boston\n",
    "from mlxtend.plotting import plot_sequential_feature_selection as plot_sfs\n",
    "import matplotlib.pyplot as plt\n",
    "\n",
    "df = pd.read_csv(\"Boston.csv\",encoding = \"ISO-8859-1\")\n",
    "#Rename the columns\n",
    "df.columns=[\"no\",\"crimeRate\",\"zone\",\"indus\",\"chasRiver\",\"NO2\",\"rooms\",\"age\",\n",
    "              \"distances\",\"idxHighways\",\"taxRate\",\"teacherRatio\",\"color\",\"status\",\"cost\"]\n",
    "X=df[[\"crimeRate\",\"zone\",\"indus\",\"chasRiver\",\"NO2\",\"rooms\",\"age\",\n",
    "              \"distances\",\"idxHighways\",\"taxRate\",\"teacherRatio\",\"color\",\"status\",\"cost\"]]\n",
    "y=df['cost']\n",
    "lr = LinearRegression()\n",
    "\n",
    "sfs = SFS(lr, \n",
    "          k_features=(1,14), \n",
    "          forward=True, \n",
    "          floating=False, \n",
    "          scoring='neg_mean_squared_error',\n",
    "          cv=5)\n",
    "\n",
    "sfs = sfs.fit(X.as_matrix(), y.as_matrix())\n",
    "fig = plot_sfs(sfs.get_metric_dict(), kind='std_err')\n",
    "plt.show()\n",
    "m=[]\n",
    "for i in np.arange(1,14):\n",
    "    m.append(np.mean(a[i]['cv_scores'])) \n",
    "l=np.arange(1,14)\n",
    "plt.plot(l,m)\n",
    "plt.title('Mean CV Scores')\n",
    "plt.grid()\n",
    "plt.show()\n",
    "o=[]\n",
    "for i in np.arange(1,14):\n",
    "    o.append(np.mean(a[i]['std_err']))\n",
    "\n",
    "p=np.arange(1,14)\n",
    "plt.plot(p,o)\n",
    "plt.title('Bestl Forward Selection (w. StdErr)')\n",
    "plt.grid()\n",
    "plt.show()\n",
    "\n",
    "pd.DataFrame.from_dict(sfs.get_metric_dict(confidence_interval=0.90)).T"
   ]
  },
  {
   "cell_type": "code",
   "execution_count": 37,
   "metadata": {},
   "outputs": [],
   "source": [
    "df.columns=[\"no\",\"crimeRate\",\"zone\",\"indus\",\"chasRiver\",\"NO2\",\"rooms\",\"age\",\n",
    "              \"distances\",\"idxHighways\",\"taxRate\",\"teacherRatio\",\"color\",\"status\",\"cost\"]"
   ]
  },
  {
   "cell_type": "code",
   "execution_count": 42,
   "metadata": {},
   "outputs": [
    {
     "data": {
      "text/plain": [
       "(506, 14)"
      ]
     },
     "execution_count": 42,
     "metadata": {},
     "output_type": "execute_result"
    }
   ],
   "source": [
    "X.shape"
   ]
  },
  {
   "cell_type": "code",
   "execution_count": null,
   "metadata": {
    "collapsed": true
   },
   "outputs": [],
   "source": []
  }
 ],
 "metadata": {
  "kernelspec": {
   "display_name": "Python 2",
   "language": "python",
   "name": "python2"
  },
  "language_info": {
   "codemirror_mode": {
    "name": "ipython",
    "version": 2
   },
   "file_extension": ".py",
   "mimetype": "text/x-python",
   "name": "python",
   "nbconvert_exporter": "python",
   "pygments_lexer": "ipython2",
   "version": "2.7.13"
  }
 },
 "nbformat": 4,
 "nbformat_minor": 2
}
